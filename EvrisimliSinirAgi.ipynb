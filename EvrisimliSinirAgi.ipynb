{
  "nbformat": 4,
  "nbformat_minor": 0,
  "metadata": {
    "colab": {
      "provenance": [],
      "gpuType": "T4"
    },
    "kernelspec": {
      "name": "python3",
      "display_name": "Python 3"
    },
    "language_info": {
      "name": "python"
    },
    "accelerator": "GPU"
  },
  "cells": [
    {
      "cell_type": "code",
      "source": [
        "import numpy as np\n",
        "import h5py\n",
        "import matplotlib.pyplot as plt\n",
        "\n",
        "plt.rcParams['figure.figsize'] = (5.0,4.0)\n",
        "plt.rcParams['image.interpolation'] = 'nearest'\n",
        "plt.rcParams['image.cmap'] = 'gray'\n",
        "\n",
        "np.random.seed(1)\n",
        "\n",
        "#bazı parametreleri geçici olarak hafızada tutmamız gerekecek bunu unutmamamız gerekiyor."
      ],
      "metadata": {
        "id": "EKU-vREFNwOS"
      },
      "execution_count": 2,
      "outputs": []
    },
    {
      "cell_type": "markdown",
      "source": [
        "Tabii, aşağıdaki kodu satır satır açıklayalım:\n",
        "\n",
        "```python\n",
        "import numpy as np\n",
        "```\n",
        "Bu satır, NumPy adlı Python kütüphanesini içe aktarır. NumPy, çok boyutlu dizilerle çalışmak için kullanılır ve bu kodun içinde muhtemelen matematiksel işlemler yapmak için kullanılacaktır.\n",
        "\n",
        "```python\n",
        "import h5py\n",
        "```\n",
        "Bu satır, h5py adlı bir Python kütüphanesini içe aktarır. h5py, Hierarchical Data Format (HDF) dosyalarını işlemek için kullanılır. Bu kodda muhtemelen verilerin bir HDF5 dosyasından okunacağı veya bir HDF5 dosyasına yazılacağı düşünülmektedir.\n",
        "\n",
        "```python\n",
        "import matplotlib.pyplot as plt\n",
        "```\n",
        "Bu satır, Matplotlib kütüphanesinin bir parçasını içe aktarır. Matplotlib, grafikler ve görsellemeler oluşturmak için kullanılır. Bu kodda grafiği çizmek ve görsel sonuçları görüntülemek amacıyla kullanılacaktır.\n",
        "\n",
        "```python\n",
        "plt.rcParams['figure.figsize'] = (5.0, 4.0)\n",
        "```\n",
        "Bu satır, Matplotlib'teki grafik boyutlarını belirler. `figsize` özelliği, çizilen grafiklerin genişlik ve yükseklik boyutlarını ayarlar. Bu kod, varsayılan grafik boyutunu (5.0 birim genişlik ve 4.0 birim yükseklik) belirler.\n",
        "\n",
        "```python\n",
        "plt.rcParams['image.interpolation'] = 'nearest'\n",
        "```\n",
        "Bu satır, görüntü interpolasyonunu (nesne konumlarının tahmini) 'nearest' olarak ayarlar. 'nearest', piksel değerlerini daha yakındaki piksel değerlerine dayalı olarak tahmin eder. Bu, görüntülerin daha sert ve pikselsiz görünmesini sağlar.\n",
        "\n",
        "```python\n",
        "plt.rcParams['image.cmap'] = 'gray'\n",
        "```\n",
        "Bu satır, görüntü renk haritasını (colormap) 'gray' olarak ayarlar. 'gray' renk haritası, siyah-beyaz görüntüler için uygun bir renk paletti sağlar. Bu, çizilen görüntülerin siyah-beyaz olarak görüntülenmesini sağlar.\n",
        "\n",
        "```python\n",
        "np.random.seed(1)\n",
        "```\n",
        "Bu satır, NumPy kütüphanesindeki rastgele sayı üretecinin (random number generator) başlangıç durumunu belirler. Bu, rastgele sayıları oluştururken tekrarlanabilir sonuçlar elde etmek için kullanılır. `1` burada başlangıç durumunu temsil eder ve aynı başlangıç durumu kullanıldığında aynı rastgele sayılar elde edilir."
      ],
      "metadata": {
        "id": "SRJGEgrPUDcR"
      }
    },
    {
      "cell_type": "code",
      "source": [
        "#ilk önce sıfırla piksel doldurma işlemlerimizi yapalım, bir fonksiyon tanımlayalım\n",
        "\n",
        "def zero_pad(x, pad):\n",
        "    x_pad = np.pad(x, ((0,0), (pad,pad), (pad,pad), (0,0)), 'constant', constant_values = 0)\n",
        "\n",
        "    return x_pad"
      ],
      "metadata": {
        "id": "AALrxJtgUGAE"
      },
      "execution_count": 3,
      "outputs": []
    },
    {
      "cell_type": "markdown",
      "source": [
        "Bu Python fonksiyonu, bir girdi dizisini (X) çevreleyen bir sıfır dolgu (zero padding) işlemi gerçekleştirir. Zero padding, genellikle sinir ağı modellemesi ve görüntü işleme gibi alanlarda kullanılır. İşte bu fonksiyonun açıklamaları:\n",
        "\n",
        "```python\n",
        "def zero_pad(X, pad):\n",
        "```\n",
        "\n",
        "Bu satır, `zero_pad` adlı bir Python fonksiyonu tanımlar. Bu fonksiyon iki parametre alır: `X` (diziyi temsil eder) ve `pad` (sıfır dolgu miktarını temsil eder).\n",
        "\n",
        "```python\n",
        "X_pad = np.pad(X, ((0,0), (pad,pad), (pad,pad), (0,0)), 'constant', constant_values)\n",
        "```\n",
        "\n",
        "Bu satır, NumPy kütüphanesi kullanılarak veriyi sıfırlarla çevreleyen bir işlemi gerçekleştirir. `np.pad()` işlevi, dört parametre alır:\n",
        "\n",
        "- `X`: Sıfırlarla dolgu yapılacak giriş verisi (dizi).\n",
        "- `((0,0), (pad,pad), (pad,pad), (0,0))`: Dolgu miktarını ve dolgu yönünü belirleyen bir dört'lü (tuple) olarak belirtilen bir dizi. Her bir öğe, sırasıyla öncesi, yükseklik (satır), genişlik (sütun) ve sonrası dolgu miktarını temsil eder. `(0,0)` sıfır öncesi ve sonrası dolgu anlamına gelirken, `(pad, pad)` yükseklik ve genişlik boyutlarında dolgu anlamına gelir. Bu, yatay ve dikey yönde eşit miktarda dolgu yapmayı sağlar.\n",
        "- `'constant'`: Dolgu yöntemini belirten bir dize. 'constant', sıfır dolgu yapılmasını ifade eder.\n",
        "- `constant_values`: Dolgu değerini belirten bir dize veya sayı. Bu, sıfır dolgu yapılacağı için genellikle 0'dır.\n",
        "\n",
        "Bu işlem sonucunda `X_pad`, sıfırlarla dolgu yapılmış veriyi temsil eden bir yeni dizi olur.\n",
        "\n",
        "```python\n",
        "return X_pad\n",
        "```\n",
        "\n",
        "Bu satır, işlem sonucunda oluşturulan sıfırlarla dolgu yapılmış veriyi `X_pad` değişkeniyle döndürür. Yani, bu fonksiyon çağrıldığında, sıfırlarla dolgu yapılmış veriyi alabilirsiniz."
      ],
      "metadata": {
        "id": "TZafFJovWVye"
      }
    },
    {
      "cell_type": "code",
      "source": [
        "np.random.seed(1)\n",
        "x = np.random.randn(4,3,3,2) # x dizisi 4 örneğin her biri 3x3 piksel boyutunda ve her bir pikselde 2 derinlik değeri içeren bir veri kümesini temsil ediyor gibi görünüyor.\n",
        "x_pad = zero_pad(x, 2)\n",
        "\n",
        "print(\"x.shape =\", x.shape)\n",
        "print(\"x_pad.shape = \", x_pad.shape)\n",
        "print(\"x_pad[1,1] = \", x_pad[1,1])\n",
        "\n",
        "fig, axarr = plt.subplots(1,2)\n",
        "axarr[0].set_title('x')\n",
        "axarr[0].imshow(x[0,:,:,0])\n",
        "axarr[1].set_title('x_pad')\n",
        "axarr[1].imshow(x_pad[0,:,:,0])\n"
      ],
      "metadata": {
        "colab": {
          "base_uri": "https://localhost:8080/",
          "height": 442
        },
        "id": "VOUBZPcNWXBn",
        "outputId": "684618c0-8d22-40c9-fd8a-0c79045b2841"
      },
      "execution_count": 4,
      "outputs": [
        {
          "output_type": "stream",
          "name": "stdout",
          "text": [
            "x.shape = (4, 3, 3, 2)\n",
            "x_pad.shape =  (4, 7, 7, 2)\n",
            "x_pad[1,1] =  [[0. 0.]\n",
            " [0. 0.]\n",
            " [0. 0.]\n",
            " [0. 0.]\n",
            " [0. 0.]\n",
            " [0. 0.]\n",
            " [0. 0.]]\n"
          ]
        },
        {
          "output_type": "execute_result",
          "data": {
            "text/plain": [
              "<matplotlib.image.AxesImage at 0x799f385a75e0>"
            ]
          },
          "metadata": {},
          "execution_count": 4
        },
        {
          "output_type": "display_data",
          "data": {
            "text/plain": [
              "<Figure size 500x400 with 2 Axes>"
            ],
            "image/png": "[encoded data removed]"
          },
          "metadata": {}
        }
      ]
    },
    {
      "cell_type": "markdown",
      "source": [
        "Bu kod parçası, veri kümesi üzerinde sıfır dolgu (zero padding) işlemini uygulayan bir örneği içerir. Sıfır dolgu işlemi, veri kümesinin etrafına sıfır değerler ekleyerek verinin boyutunu artırır. İşte bu kodun adım adım açıklaması:\n",
        "\n",
        "1. `np.random.seed(1)`: Rastgele sayı üretecinin başlangıç noktasını belirler. Bu, rastgele sayıların önceden belirlenebilir olmasını sağlar.\n",
        "\n",
        "2. `x = np.random.randn(4, 3, 3, 2)`: Rastgele sayılardan oluşan bir 4 boyutlu NumPy dizisi oluşturulur. Bu dizi 4 örnek içerir. Her bir örnek, 3x3 piksel boyutuna ve her pikselde 2 derinlik değerine sahiptir. Yani, bu veri kümesi 4 örneğin her birinin 3x3 piksel boyutunda olduğunu ve her pikselde 2 derinlik değerine sahip olduğunu temsil eder.\n",
        "\n",
        "3. `x_pad = zero_pad(x, 2)`: `zero_pad` işlemi, `x` veri kümesine sıfır dolgu ekler. İkinci argüman olarak 2 verilmiştir, bu da verinin etrafına her boyutta 2 birim sıfır dolgu yapılacağı anlamına gelir. Yani, her boyutta 2 piksel eklenir.\n",
        "\n",
        "4. `print(\"x.shape =\", x.shape)`: İlk olarak, orijinal veri kümesinin boyutu (`x`'in şekli) yazdırılır. Bu, (4, 3, 3, 2) şeklinde bir dört boyutlu dizi olduğunu gösterir.\n",
        "\n",
        "5. `print(\"x_pad.shape =\", x_pad.shape)`: Ardından, sıfır dolgu işlemi uygulandıktan sonra veri kümesinin boyutu (`x_pad`'in şekli) yazdırılır. Bu, sıfır dolgu eklenmiş bir verinin boyutunu gösterir ve sonuç olarak (4, 7, 7, 2) bir şekil elde edilir.\n",
        "\n",
        "6. `print(\"x[1,1] =\", x_pad[1,1])`: Veri kümesinin sıfır dolgu uygulanmış hali olan `x_pad` içindeki bir örneğin (1, 1) konumundaki değerler yazdırılır.\n",
        "\n",
        "7. `fig, axarr = plt.subplots(1, 2)`: İki resim (görüntü) için bir çerçeve oluşturulur.\n",
        "\n",
        "8. `axarr[0].set_title('x')`: İlk resim çerçevesinin başlığı \"x\" olarak ayarlanır.\n",
        "\n",
        "9. `axarr[0].imshow(x[0, :, :, 0])`: İlk resim çerçevesine, orijinal veri kümesinin (0. örnek, tüm yükseklik ve genişlik, 0. derinlik kanalı) görüntüsü eklenir.\n",
        "\n",
        "10. `axarr[1].set_title('x_pad')`: İkinci resim çerçevesinin başlığı \"x_pad\" olarak ayarlanır.\n",
        "\n",
        "11. `axarr[1].imshow(x_pad[0, :, :, 0])`: İkinci resim çerçevesine, sıfır dolgu uygulandıktan sonra veri kümesinin (0. örnek, tüm yükseklik ve genişlik, 0. derinlik kanalı) görüntüsü eklenir.\n",
        "\n",
        "Bu kod, veri kümesine sıfır dolgu ekleyerek verinin boyutunu artırır ve orijinal veri ile sıfır dolgu eklenmiş verinin görüntülerini görselleştirir. Sıfır dolgu, veri kümesinin kenarlarına eklenen sıfır pikselleri temsil eder."
      ],
      "metadata": {
        "id": "OvsTuj-C3_Yy"
      }
    },
    {
      "cell_type": "code",
      "source": [
        "#bir konvolüsyon işlemi tanımlayalım\n",
        "#fonksiyonumuzun içinde tek adımlı bir evrişim işlemi gerçekleştireceğiz\n",
        "\n",
        "def conv_single_step(a_slice_prev, W,b): # a_slice_prev : giriş matrisimiz, ağırlıklar, bias\n",
        "\n",
        "    s = np.multiply(a_slice_prev, W) #giriş matrisi ile ağırlıklarımızı çarpacağız\n",
        "\n",
        "    # toplama işlemi\n",
        "    Z = np.sum(s)\n",
        "\n",
        "    Z = float(b)+ Z\n",
        "\n",
        "    return Z\n",
        "\n"
      ],
      "metadata": {
        "id": "pqsL10A_4BsG"
      },
      "execution_count": 20,
      "outputs": []
    },
    {
      "cell_type": "code",
      "source": [
        "np.random.seed(1)\n",
        "\n",
        "a_slice_prev = np.random.randn(4, 4, 3)\n",
        "\n",
        "W = np.random.randn(4, 4, 3) #ağırlık matrisimizin kanal sayısı ile giriş matrisinin kanal sayısı eşit olmalı\n",
        "\n",
        "b = np.random.randn(1, 1, 1)\n",
        "\n",
        "Z = conv_single_step(a_slice_prev, W, b)\n",
        "print(\"Z =\", Z) #giriş matrismin filtrelerle çarpılıp bias ile toplanmış hali"
      ],
      "metadata": {
        "colab": {
          "base_uri": "https://localhost:8080/"
        },
        "id": "nmu2QOt69Ads",
        "outputId": "a45d2d86-a00a-442b-b18e-b74f86f58434"
      },
      "execution_count": 21,
      "outputs": [
        {
          "output_type": "stream",
          "name": "stdout",
          "text": [
            "Z = -6.999089450680221\n"
          ]
        }
      ]
    },
    {
      "cell_type": "markdown",
      "source": [
        "np.multiply numpy kütüphanesinin bir işlemidir ve iki diziyi eleman bazında çarpar. Bu işlem, iki dizinin şekilleri uyumlu olduğunda gerçekleştirilir ve sonuç, her iki dizinin aynı konumundaki elemanlarının çarpımından oluşur. Özellikle, her iki dizinin aynı şekle sahip olması gerekmektedir."
      ],
      "metadata": {
        "id": "uCHK2H2p60G2"
      }
    },
    {
      "cell_type": "markdown",
      "source": [
        "Bu kod, tek bir konvolüsyon adımını hesaplayan bir Python işlevini tanımlar ve ardından bu işlemi bir örnekle uygular. İşte kodun ayrıntılı açıklaması:\n",
        "\n",
        "1. `def conv_single_step(a_slice_prev, W, b)`: `conv_single_step` adlı bir işlev tanımlanıyor. Bu işlev, tek bir konvolüsyon adımını gerçekleştirir ve üç parametre alır:\n",
        "   - `a_slice_prev`: Giriş matrisinin bir dilimini temsil eder. Önceki katmandan gelen verileri içerir.\n",
        "   - `W`: Ağırlık matrisini temsil eder. Bu ağırlıklar, konvolüsyon işlemi sırasında giriş matrisiyle çarpılacaktır.\n",
        "   - `b`: Bias terimini temsil eder.\n",
        "\n",
        "2. `s = np.multiply(a_slice_prev, W)`: Giriş matrisi (`a_slice_prev`) ile ağırlık matrisi (`W`) eleman bazında çarpılır. Bu işlem, konvolüsyon işleminin bir parçasıdır ve sonuç, `s` adlı bir dizi içinde saklanır.\n",
        "\n",
        "3. `Z = np.sum(s)`: `s` dizisindeki tüm elemanlar toplanarak bir skalar değer olan `Z` oluşturulur. Bu, konvolüsyon işleminin bir sonucudur.\n",
        "\n",
        "4. `Z = float(b) + Z`: Elde edilen skaler değeri, bias terimi (`b`) ile toplar. Bias, her bir konvolüsyon işlemi sonrasında eklenen bir sabit değerdir.\n",
        "\n",
        "5. `return Z`: Hesaplanan sonuç `Z`, işlevden döndürülür.\n",
        "\n",
        "6. `np.random.seed(1)`: Rastgele sayı üretimi için numpy kütüphanesinin rastgele sayı üreteciye bir başlangıç değeri atanır. Bu, rastgele sayıların önceden belirlenebilir olmasını sağlar.\n",
        "\n",
        "7. `a_slice_prev`, `W`, ve `b` adlı örnek veriler tanımlanır. Örneğin, giriş matrisi `a_slice_prev`, 4x4x3 şeklinde rastgele sayılarla doldurulur. Ayrıca, ağırlık matrisi `W` ve bias terimi `b` de rastgele sayılarla doldurulur.\n",
        "\n",
        "8. `Z = conv_single_step(a_slice_prev, W, b)`: Önce tanımladığınız `conv_single_step` işlevi, örnek verilerle çağrılır ve tek bir konvolüsyon adımının sonucu `Z` değişkenine atılır.\n",
        "\n",
        "9. `print(\"Z =\", Z)`: Hesaplanan konvolüsyon sonucu `Z`, ekrana yazdırılır. Lütfen dikkat edin, `z` yerine `Z` büyük harfle yazılmalıdır çünkü Python'da değişken isimleri büyük-küçük harf duyarlıdır."
      ],
      "metadata": {
        "id": "fUMo9AgD0hpc"
      }
    },
    {
      "cell_type": "code",
      "source": [
        "def conv_forward(A_prev, W, b, hparameters):\n",
        "\n",
        "    (m, n_H_prev, n_W_prev, n_C_prev) = A_prev.shape\n",
        "\n",
        "    (f, f, n_C_prev, n_C) = W.shape\n",
        "\n",
        "\n",
        "    stride = hparameters['stride']\n",
        "    pad = hparameters['pad']\n",
        "\n",
        "    n_H = int(((n_H_prev-f+2*pad)/stride)+1)\n",
        "    n_W = int(((n_W_prev-f+2*pad)/stride)+1)\n",
        "\n",
        "    Z = np.zeros([m,n_H,n_W,n_C])\n",
        "\n",
        "\n",
        "    A_prev_pad = zero_pad(A_prev, pad)\n",
        "\n",
        "    for i in range(m):\n",
        "        a_prev_pad = A_prev_pad[i]\n",
        "        for h in range(n_H):\n",
        "            for w in range(n_W):\n",
        "                for c in range(n_C):\n",
        "\n",
        "                    vert_start = h*stride\n",
        "                    vert_end = vert_start + f\n",
        "                    horiz_start = w*stride\n",
        "                    horiz_end = horiz_start + f\n",
        "\n",
        "\n",
        "                    a_slice_prev = a_prev_pad[vert_start:vert_end, horiz_start:horiz_end]\n",
        "\n",
        "\n",
        "                    Z[i, h, w, c] = conv_single_step(a_slice_prev, W[...,c], b[...,c])\n",
        "\n",
        "\n",
        "    assert(Z.shape == (m, n_H, n_W, n_C))\n",
        "\n",
        "\n",
        "    cache = (A_prev, W, b, hparameters)\n",
        "\n",
        "    return Z, cache"
      ],
      "metadata": {
        "id": "et8rFDHlaP96"
      },
      "execution_count": 44,
      "outputs": []
    },
    {
      "cell_type": "markdown",
      "source": [
        "Bu kod, konvolüsyon (convolution) işleminin ileri geçişini gerçekleştiren bir Python işlemini tanımlar. İşte kodun ayrıntılı açıklaması:\n",
        "\n",
        "1. İşlev, dört ana girdi parametresi alır:\n",
        "   - `A_prev`: Önceki katmandan gelen giriş veri setini temsil eder. Bu veri seti dört boyutlu bir dizedir ve şu şekilde tanımlanır: `(m, n_H_prev, n_W_prev, n_C_prev)`:\n",
        "     - `m`: Minibatch boyutu (örnek sayısı).\n",
        "     - `n_H_prev`: Giriş veri setinin yükseklik (height) boyutu.\n",
        "     - `n_W_prev`: Giriş veri setinin genişlik (width) boyutu.\n",
        "     - `n_C_prev`: Giriş veri setinin kanal (channel) sayısı (örneğin, RGB gibi bir görüntü için 3 kanal).\n",
        "\n",
        "   - `W`: Konvolüsyon filtrelerini temsil eder. Bu dizi şu şekilde tanımlanır: `(f, f, n_C_prev, n_C)`:\n",
        "     - `f`: Her bir filtre (kernel) için yükseklik ve genişlik boyutu.\n",
        "     - `n_C_prev`: Giriş veri setinin kanal sayısı (önceki katmandan gelen).\n",
        "     - `n_C`: Filtrelerin sayısı.\n",
        "\n",
        "   - `b`: Bias terimini temsil eder. Bu dizi, her bir filtre için bir bias değeri içerir ve şekli `(1, 1, 1, n_C)` olarak tanımlanır.\n",
        "\n",
        "   - `hparameters`: Hiperparametreleri içeren bir sözlüktür:\n",
        "     - `stride`: Filtrelerin kaydırılma adımını belirler.\n",
        "     - `pad`: Giriş veri setinin etrafına eklenen dolgu miktarını belirler.\n",
        "\n",
        "2. İşlev içinde, giriş veri seti (`A_prev`) ve konvolüsyon filtrelerinin (`W`) boyutlarına erişilir ve gerekli değişkenler tanımlanır. Özellikle, çıkış veri setinin boyutları (`n_H` ve `n_W`) hesaplanır.\n",
        "\n",
        "3. Boş bir çıkış veri seti (`Z`) oluşturulur. Bu dizi, sonuçları depolamak için kullanılır ve şekli `(m, n_H, n_W, n_C)` olarak tanımlanır.\n",
        "\n",
        "4. `A_prev` veri setine dolgu eklenir ve bu eklenmiş veri seti `A_prev_pad` adında bir dizi olarak saklanır. Dolgu, giriş veri setinin etrafına eklenir ve boyutlarına uygun hale getirilir.\n",
        "\n",
        "5. Dört döngü iç içe yer alır ve konvolüsyon işlemi yapılır. İç içe döngüler şunları temsil eder:\n",
        "   - İlk döngü (i): Minibatch boyutuna (m) göre döngü yapar.\n",
        "   - İkinci döngü (h): Çıkış yüksekliğine (`n_H`) göre döngü yapar.\n",
        "   - Üçüncü döngü (w): Çıkış genişliğine (`n_W`) göre döngü yapar.\n",
        "   - Dördüncü döngü (c): Filtre sayısına (`n_C`) göre döngü yapar.\n",
        "\n",
        "6. Her bir konvolüsyon adımı, aşağıdaki adımları içerir:\n",
        "   - Dilimleme işlemi: Giriş veri seti üzerinde filtrenin uygulandığı dilim alınır.\n",
        "   - Konvolüsyon işlemi: Filtre, dilimleme sonucuyla çarpılır.\n",
        "   - Toplama işlemi: Çıkan sonuçlar toplanarak çıkış veri setine kaydedilir.\n",
        "\n",
        "7. Son olarak, `Z` dizisinin şekli kontrol edilir ve bir `cache` tuple'ı oluşturulur. `cache` tuple'ı, işlem sırasında kullanılan verileri ve hiperparametreleri saklar.\n",
        "\n",
        "8. `Z` dizisi ve `cache` tuple'ı işlevden döndürülür.\n",
        "\n",
        "Bu işlev, giriş veri seti üzerinde konvolüsyon işlemi yapar ve çıkış veri setini oluşturur. Çıkış veri seti, konvolüsyon katmanından sonraki katmana iletilir ve genellikle aktivasyon işlemine tabi tutulur."
      ],
      "metadata": {
        "id": "MM-B-Qwla82j"
      }
    },
    {
      "cell_type": "code",
      "source": [
        "np.random.seed(1)\n",
        "A_prev = np.random.randn(10, 4, 4, 3)\n",
        "W = np.random.randn(2, 2, 3, 8)\n",
        "b = np.random.randn(1, 1, 1, 8)\n",
        "\n",
        "hparameters = {\"pad\" : 2,\n",
        "               \"stride\" : 2}\n",
        "\n",
        "Z, cache_conv = conv_forward(A_prev, W, b, hparameters)\n",
        "\n",
        "print(\"Z'nin ortalama =\", np.mean(Z))\n",
        "print(\"Z[3, 2, 1] = \", Z[3,2,1])\n",
        "print(\"cache_conv[0][1][2][3] =\", cache_conv[0][1][2][3])"
      ],
      "metadata": {
        "colab": {
          "base_uri": "https://localhost:8080/"
        },
        "id": "rqos41lSA1nd",
        "outputId": "8c12e5f2-06bb-4c8d-ed17-cba4701f8cd8"
      },
      "execution_count": 45,
      "outputs": [
        {
          "output_type": "stream",
          "name": "stdout",
          "text": [
            "Z'nin ortalama = 0.048995203528855794\n",
            "Z[3, 2, 1] =  [-0.61490741 -6.7439236  -2.55153897  1.75698377  3.56208902  0.53036437\n",
            "  5.18531798  8.75898442]\n",
            "cache_conv[0][1][2][3] = [-0.20075807  0.18656139  0.41005165]\n"
          ]
        }
      ]
    },
    {
      "cell_type": "markdown",
      "source": [
        "Bu kod, verilen giriş veri seti (`A_prev`), konvolüsyon filtreleri (`W`), bias terimleri (`b`) ve hiperparametreler (`hparameters`) kullanılarak konvolüsyon işleminin ileri geçişini gerçekleştiriyor. İşte kodun ayrıntılı açıklaması:\n",
        "\n",
        "1. `np.random.seed(1)`: Rastgele sayı üretecinin başlangıç noktasını belirler. Bu, rastgele sayıların önceden belirlenebilir olmasını sağlar.\n",
        "\n",
        "2. `A_prev`, `W`, ve `b` dizileri oluşturulur:\n",
        "   - `A_prev`: Giriş veri setini temsil eder. Bu dizi 10 örnek içerir, her biri 4x4 boyutunda ve her bir örneğin 3 kanalı (RGB gibi) bulunur. Bu veri seti rastgele sayılarla doldurulur.\n",
        "   - `W`: Konvolüsyon filtrelerini temsil eder. Her bir filtre 2x2 boyutunda ve 3 kanala sahiptir. Toplamda 8 farklı filtre bulunur ve bu filtreler de rastgele sayılarla doldurulur.\n",
        "   - `b`: Bias terimini temsil eder. Her bir filtre için bir bias değeri bulunur.\n",
        "\n",
        "3. `hparameters` sözlüğü tanımlanır:\n",
        "   - `pad`: Dolgu miktarını belirler. Bu örnekte, pad değeri 2 olarak ayarlanmıştır, yani giriş veri setinin etrafına 2 birim dolgu eklenir.\n",
        "   - `stride`: Adım miktarını belirler. Bu örnekte, stride değeri 2 olarak ayarlanmıştır, yani filtreler her iki birimde bir kaydırılarak konvolüsyon işlemi gerçekleştirilir.\n",
        "\n",
        "4. `conv_forward` işlevi çağrılır:\n",
        "   - Bu işlev, giriş veri seti (`A_prev`), konvolüsyon filtreleri (`W`), bias terimleri (`b`) ve hiperparametreler (`hparameters`) ile çağrılır.\n",
        "   - İleri geçiş işlemi gerçekleştirilir ve sonuçlar `Z` adlı bir diziye (çıkış veri seti) kaydedilir. Ayrıca, işlem sırasında kullanılan veriler ve hiperparametreler `cache_conv` adlı bir tuple içinde saklanır.\n",
        "\n",
        "5. `Z` dizisinin ortalaması hesaplanır ve yazdırılır. Bu, konvolüsyon işlemi sonucunda elde edilen çıkışın ortalamasını ifade eder.\n",
        "\n",
        "6. `Z` dizisinin belirli bir konumdaki değeri (`Z[3, 2, 1]`) yazdırılır. Bu, çıkış veri setinin belirli bir konumundaki değeri ifade eder.\n",
        "\n",
        "7. `cache_conv` tuple'ının belirli bir konumundaki değeri (`cache_conv[0][1][2][3]`) yazdırılır. Bu tuple, işlem sırasında kullanılan verilerin saklandığı bir yapıdır.\n",
        "\n",
        "Sonuç olarak, bu kod, verilen giriş veri seti ve filtreler ile konvolüsyon işlemini gerçekleştirir ve çıkışı (`Z`) hesaplar. Bu çıkış daha sonra genellikle bir aktivasyon fonksiyonuna (örneğin ReLU) geçirilir ve ardından bir sonraki katmana iletilir. Ayrıca, bu işlem sırasında kullanılan verileri ve hiperparametreleri saklamak için bir önbellek (`cache_conv`) oluşturur."
      ],
      "metadata": {
        "id": "p7GjAlZabURE"
      }
    },
    {
      "cell_type": "code",
      "source": [
        "def pool_forward(A_prev, hparameters,mode = \"max\"):\n",
        "\n",
        "  (m, n_H_prev, n_W_prev, n_C_prev) = A_prev.shape\n",
        "\n",
        "  f = hparameters[\"f\"]\n",
        "  stride = hparameters[\"stride\"]\n",
        "\n",
        "  n_H = int(1 + (n_H_prev -f)/ stride)\n",
        "  n_W = int(1 + (n_W_prev -f)/ stride)\n",
        "  n_C = n_C_prev\n",
        "\n",
        "  A = np.zeros((m, n_H, n_W, n_C))\n",
        "\n",
        "  for i in range(m):\n",
        "    for h in range(n_H):\n",
        "      for w in range(n_W):\n",
        "        for c in range(n_C):\n",
        "\n",
        "          vert_start = h*stride\n",
        "          vert_end = vert_start +f\n",
        "          horiz_start = w*stride\n",
        "          horiz_end = horiz_start +f\n",
        "\n",
        "          a_prev_slice = A_prev[i, vert_start:vert_end, horiz_start:horiz_end, c]\n",
        "\n",
        "          if mode == \"max\":\n",
        "            A[i,h, w, c] = np.max(a_prev_slice)\n",
        "          elif mode == \"average\":\n",
        "            A[i,h, w, c] = np.mean(a_prev_slice)\n",
        "\n",
        "  cache = (A_prev, hparameters)\n",
        "\n",
        "  assert(A.shape == (m, n_H, n_W, n_C))\n",
        "\n",
        "  return A, cache"
      ],
      "metadata": {
        "id": "ggtkkNzabVmu"
      },
      "execution_count": 46,
      "outputs": []
    },
    {
      "cell_type": "markdown",
      "source": [
        "Bu fonksiyon, havuzlama (pooling) işleminin ileri besleme aşamasını gerçekleştirir. Havuzlama işlemi, giriş verisini küçültmek ve önemli özellikleri vurgulamak amacıyla kullanılır. Fonksiyonun detaylarını şu şekilde açıklayabiliriz:\n",
        "\n",
        "- `A_prev`: Giriş verisi olan A_prev, şekli `(m, n_H_prev, n_W_prev, n_C_prev)` olan bir dizi (tensor) olarak kabul edilir. Burada `m`, örnek sayısını; `n_H_prev` ve `n_W_prev`, giriş verisinin yükseklik ve genişlik boyutlarını; `n_C_prev`, giriş verisinin kanal (derinlik) sayısını temsil eder.\n",
        "\n",
        "- `hparameters`: Havuzlama işlemi için kullanılan hiperparametreleri içeren bir sözlüktür. Bu sözlük içinde `f` (pencere boyutu) ve `stride` (adım sayısı) bilgileri bulunur.\n",
        "\n",
        "- `mode`: Havuzlama modunu belirleyen bir parametredir. Varsayılan olarak \"max\" olarak ayarlanmıştır. Diğer bir seçenek \"average\" olabilir.\n",
        "\n",
        "Fonksiyonun gerçekleştirdiği işlem şu adımlardan oluşur:\n",
        "\n",
        "1. Havuzlama işlemi sonucunda oluşacak çıkış verisinin boyutlarını hesaplar. `n_H` ve `n_W` değerlerini bu hesaplamalarla belirler.\n",
        "\n",
        "2. Çıkış verisi için bir sıfır tensorü (`A`) oluşturur. Bu tensorün şekli `(m, n_H, n_W, n_C)` olacaktır.\n",
        "\n",
        "3. `for` döngüleri içinde her bir örneğin, yükseklik, genişlik ve kanal boyutlarına göre havuzlama işlemini gerçekleştirir. Yani, her bir örneğin her bir bölgesinde havuzlama işlemi yapılır.\n",
        "\n",
        "4. Havuzlama işlemi, verilen `f` (pencere boyutu) ve `stride` (adım sayısı) değerlerine göre yapılır. Bu işlem sırasında, belirli bir bölge (pencere) seçilir ve bu bölgedeki özellikler üzerinden işlem yapılır.\n",
        "\n",
        "5. `mode` değerine göre, her bir bölge için ya maksimum değer (`np.max`) alınır ve `A` tensorüne kaydedilir ya da ortalama değer (`np.mean`) alınır ve `A` tensorüne kaydedilir.\n",
        "\n",
        "6. Son olarak, hesaplanan çıkış tensorü (`A`) ve giriş verisi (`A_prev`) ile kullanılan hiperparametreler (`hparameters`) bir tuple olarak `cache` değişkenine kaydedilir.\n",
        "\n",
        "7. Son olarak, `assert` ifadesi ile çıkış tensorünün beklenen boyuta sahip olduğu kontrol edilir ve fonksiyon çıkış verisi olarak `A` tensorünü ve `cache` tuple'ını döndürür.\n",
        "\n",
        "Bu fonksiyon, havuzlama işlemini ileri besleme aşamasında uygular ve çıkışı döndürür. Havuzlama işlemi, veri boyutunu küçültmek ve önemli özellikleri vurgulamak için kullanılan bir işlemdir."
      ],
      "metadata": {
        "id": "rCodtemjd3X2"
      }
    },
    {
      "cell_type": "markdown",
      "source": [
        "**Farklı ortaklama tipleri için sonuçları karşılaştıralım!**"
      ],
      "metadata": {
        "id": "USHAmdblf8U6"
      }
    },
    {
      "cell_type": "code",
      "source": [
        "np.random.seed(1)\n",
        "\n",
        "A_prev = np.random.randn(2, 4, 4, 3)\n",
        "hparameters = {\"stride\" : 2, \"f\" :3}\n",
        "\n",
        "A, cache = pool_forward(A_prev, hparameters)\n",
        "\n",
        "print(\"mod = max\")\n",
        "print(\"A= \", A)\n",
        "\n",
        "A, cache = pool_forward(A_prev, hparameters, mode = \"average\")\n",
        "\n",
        "print(\"mod = average\")\n",
        "print(\"A =\", A)\n",
        ""
      ],
      "metadata": {
        "colab": {
          "base_uri": "https://localhost:8080/"
        },
        "id": "xoqBiEXCd5JC",
        "outputId": "b1eea224-5d40-46fe-fd0c-b3037752b456"
      },
      "execution_count": 47,
      "outputs": [
        {
          "output_type": "stream",
          "name": "stdout",
          "text": [
            "mod = max\n",
            "A=  [[[[1.74481176 0.86540763 1.13376944]]]\n",
            "\n",
            "\n",
            " [[[1.13162939 1.51981682 2.18557541]]]]\n",
            "mod = average\n",
            "A = [[[[ 0.02105773 -0.20328806 -0.40389855]]]\n",
            "\n",
            "\n",
            " [[[-0.22154621  0.51716526  0.48155844]]]]\n"
          ]
        }
      ]
    },
    {
      "cell_type": "markdown",
      "source": [
        "Bu kod, havuzlama (pooling) işleminin iki farklı modu (\"max\" ve \"average\") kullanılarak uygulandığını gösteriyor. İşte kodun ayrıntılı açıklaması:\n",
        "\n",
        "1. `np.random.seed(1)`: Rastgele sayı üretecinin başlangıç noktasını belirler. Bu, rastgele sayıların önceden belirlenebilir olmasını sağlar.\n",
        "\n",
        "2. `A_prev`: Giriş veri setini temsil eder. Bu veri seti 2 örnek içerir, her biri 4x4 boyutunda ve her bir örneğin 3 kanalı (RGB gibi) bulunur. Bu veri seti rastgele sayılarla doldurulur.\n",
        "\n",
        "3. `hparameters` sözlüğü tanımlanır:\n",
        "   - `stride`: Havuzlama penceresinin kaydırılma adımını belirler. Bu örnekte, stride değeri 2 olarak ayarlanmıştır, yani havuzlama penceresi her iki birimde bir kaydırılarak havuzlama işlemi gerçekleştirilir.\n",
        "   - `f`: Havuzlama penceresinin boyutunu (yükseklik ve genişlik) belirler. Bu örnekte, pencere boyutu 3x3 olarak ayarlanmıştır.\n",
        "\n",
        "4. `pool_forward` işlevi iki farklı şekilde çağrılır:\n",
        "\n",
        "   - İlk çağrıda, varsayılan olarak \"max\" modu kullanılır:\n",
        "     ```\n",
        "     A, cache = pool_forward(A_prev, hparameters)\n",
        "     ```\n",
        "     Bu işlem, giriş veri seti `A_prev` üzerinde maksimum havuzlama işlemi uygular.\n",
        "\n",
        "   - İkinci çağrıda, \"average\" modu kullanılır:\n",
        "     ```\n",
        "     A, cache = pool_forward(A_prev, hparameters, mode=\"average\")\n",
        "     ```\n",
        "     Bu işlem, giriş veri seti `A_prev` üzerinde ortalama havuzlama işlemi uygular.\n",
        "\n",
        "5. Havuzlama işleminin sonucu (`A`) yazdırılır. İlk çağrıda \"max\" modu kullanıldığında, maksimum değerlerle doldurulmuş bir çıkış elde edilir. İkinci çağrıda \"average\" modu kullanıldığında, pencere içindeki değerlerin ortalamasıyla doldurulmuş bir çıkış elde edilir.\n",
        "\n",
        "Bu kod, havuzlama işleminin farklı modlarını uygulayarak giriş veri setini küçültme veya özelliklerin öne çıkarılması amacıyla kullanır. Maksimum havuzlama, giriş veri setinin her pencere için maksimum değeri seçerken, ortalama havuzlama pencere içindeki değerlerin ortalamasını alır. Bu işlemler, özellik haritalarını küçültmek ve önemli özellikleri korumak için sıkça kullanılır."
      ],
      "metadata": {
        "id": "bGdRaYy1gLHN"
      }
    },
    {
      "cell_type": "markdown",
      "source": [
        "**Geriye Yayılım Algoritması için Fonksiyon Tanımlayalım!**"
      ],
      "metadata": {
        "id": "KCJxkDN5hIqX"
      }
    },
    {
      "cell_type": "code",
      "source": [
        "def conv_backward(dZ, cache):\n",
        "\n",
        "\n",
        "\n",
        "    (A_prev, W, b, hparameters) = cache\n",
        "\n",
        "\n",
        "    (m, n_H_prev, n_W_prev, n_C_prev) = A_prev.shape\n",
        "\n",
        "\n",
        "    (f, f, n_C_prev, n_C) = W.shape\n",
        "\n",
        "\n",
        "    stride = hparameters['stride']\n",
        "    pad = hparameters['pad']\n",
        "\n",
        "\n",
        "    (m, n_H, n_W, n_C) = dZ.shape\n",
        "\n",
        "    dA_prev = np.zeros((m, n_H_prev, n_W_prev, n_C_prev))\n",
        "    dW = np.zeros((f,f, n_C_prev, n_C))\n",
        "    db = np.zeros((1, 1, 1, n_C))\n",
        "\n",
        "\n",
        "    A_prev_pad = zero_pad(A_prev, pad)\n",
        "    dA_prev_pad = zero_pad(dA_prev, pad)\n",
        "\n",
        "    for i in range(m):\n",
        "\n",
        "\n",
        "        a_prev_pad = A_prev_pad[i]\n",
        "        da_prev_pad = dA_prev_pad[i]\n",
        "\n",
        "        for h in range(n_H):\n",
        "            for w in range(n_W):\n",
        "                for c in range(n_C):\n",
        "\n",
        "\n",
        "                    vert_start = h\n",
        "                    vert_end = vert_start + f\n",
        "                    horiz_start = w\n",
        "                    horiz_end = horiz_start + f\n",
        "\n",
        "\n",
        "                    a_slice = a_prev_pad[vert_start:vert_end, horiz_start:horiz_end, :]\n",
        "\n",
        "\n",
        "                    da_prev_pad[vert_start:vert_end, horiz_start:horiz_end, :] += W[:,:,:,c] * dZ[i, h, w, c]\n",
        "                    dW[:,:,:,c] += a_slice * dZ[i, h, w, c]\n",
        "                    db[:,:,:,c] += dZ[i, h, w, c]\n",
        "\n",
        "        dA_prev[i, :, :, :] = da_prev_pad[pad:-pad, pad:-pad, :]\n",
        "\n",
        "\n",
        "    assert(dA_prev.shape == (m, n_H_prev, n_W_prev, n_C_prev))\n",
        "\n",
        "    return dA_prev, dW, db"
      ],
      "metadata": {
        "id": "HxN9cVx_gMQe"
      },
      "execution_count": 48,
      "outputs": []
    },
    {
      "cell_type": "markdown",
      "source": [
        "Bu kod, evrişimsel sinir ağı (CNN) katmanlarından birinin geriye doğru (backpropagation) geçişini gerçekleştiren bir Python işlemini tanımlar. İşte kodun ayrıntılı açıklaması:\n",
        "\n",
        "1. `conv_backward` işlevi, üç ana girdi parametresi alır:\n",
        "   - `dZ`: Bu, CNN katmanının çıkışındaki hata türevlerini (gradients) temsil eder. Yani, katmanın çıkışından geriye doğru gelen hata sinyalidir.\n",
        "   - `cache`: İleri geçiş sırasında hesaplamalarda kullanılan verileri ve hiperparametreleri içeren bir tuple'dır. Bu veriler şunları içerir: `A_prev` (önceki katmandan gelen giriş veri seti), `W` (konvolüsyon filtreleri), `b` (bias terimleri) ve `hparameters` (hiperparametreler).\n",
        "\n",
        "2. İlk olarak, cache'ten gerekli veriler (A_prev, W, b ve hparameters) alınır. Bu veriler ileri geçiş sırasında hesaplamalarda kullanılmıştır.\n",
        "\n",
        "3. Giriş veri setinin boyutları ve konvolüsyon filtrelerinin boyutlarından gerekli bilgiler çıkarılır. Özellikle, çıkış veri setinin boyutları (`m`, `n_H`, `n_W`, ve `n_C`) hesaplanır.\n",
        "\n",
        "4. Değişkenler `dA_prev`, `dW` ve `db` oluşturulur. Bunlar sırasıyla önceki katmana iletilen hata türevleri, filtrelerin türevleri ve bias terimlerinin türevleri için kullanılır. Bu değişkenler başlangıçta sıfırlarla doldurulur.\n",
        "\n",
        "5. Önceki katmandan gelen giriş veri seti (`A_prev`) ve hata türevleri (`dA_prev`) üzerinde dolgu (zero-padding) uygulanır. Dolgu miktarı, `pad` hiperparametresinden alınır.\n",
        "\n",
        "6. Üç iç içe döngü (i, h, w) ile giriş veri setinin her bir öğesine ve her bir konvolüsyon çekirdeği filtresine erişilir. Ayrıca, çıkış kanalları (`n_C`) üzerinde de döngü yapılır.\n",
        "\n",
        "7. Her bir adımda şu işlemler gerçekleştirilir:\n",
        "   - Dilimleme işlemi: Giriş veri setinin belirli bir penceresi alınır ve bu pencere `a_slice` değişkenine atanır.\n",
        "   - Hata türevlerinin hesaplanması: Hata türevleri, çıkış kanalındaki (`n_C`) hata türevleri ile filtre değerleri (`W`) arasındaki çarpımın toplamı olarak hesaplanır ve ilgili `dA_prev` ve `dW` değişkenlerine eklenir.\n",
        "   - Bias terimi türevlerinin hesaplanması: Bias terimi türevleri, çıkış kanalındaki hata türevlerinin toplamıdır ve `db` değişkenine eklenir.\n",
        "\n",
        "8. Hata türevlerinin `dA_prev` içindeki dolgu (padding) kısmı kaldırılarak, sonuç olarak `dA_prev` hesaplanır.\n",
        "\n",
        "9. Son olarak, `dA_prev`, `dW` ve `db` döndürülür.\n",
        "\n",
        "Bu işlev, konvolüsyon katmanının geriye doğru geçişini gerçekleştirerek önceki katmana iletilen hata türevlerini hesaplar. Bu, eğitim sırasında ağırlıkların ve bias terimlerinin güncellenmesine yardımcı olan bir adımdır. Geriye doğru geçiş, ağın eğitimi sırasında gradientleri hesaplamak için kullanılır."
      ],
      "metadata": {
        "id": "lAxhLYPnhZF9"
      }
    },
    {
      "cell_type": "code",
      "source": [
        "np.random.seed(1)\n",
        "dA, dW, db = conv_backward(Z, cache_conv)\n",
        "\n",
        "print(\"dA ortalama =\", np.mean(dA))\n",
        "print(\"dW ortalama =\", np.mean(dW))\n",
        "print(\"db ortalama =\", np.mean(db))"
      ],
      "metadata": {
        "colab": {
          "base_uri": "https://localhost:8080/"
        },
        "id": "HcIq-82OhZ-x",
        "outputId": "f1a651eb-593f-4540-f9ad-baf673429dfd"
      },
      "execution_count": 49,
      "outputs": [
        {
          "output_type": "stream",
          "name": "stdout",
          "text": [
            "dA ortalama = 0.6347704472654743\n",
            "dW ortalama = 1.5572657428497354\n",
            "db ortalama = 7.839232564616838\n"
          ]
        }
      ]
    },
    {
      "cell_type": "markdown",
      "source": [
        "Bu kod, konvolüsyonel sinir ağı (CNN) katmanının geriye doğru geçişini kullanarak hata türevlerini hesaplar. İşte kodun ayrıntılı açıklaması:\n",
        "\n",
        "1. `np.random.seed(1)`: Rastgele sayı üretecinin başlangıç noktasını belirler. Bu, rastgele sayıların önceden belirlenebilir olmasını sağlar.\n",
        "\n",
        "2. `dA, dW, db = conv_backward(Z, cache_conv)`: Geriye doğru geçiş işlemini başlatır. Bu işlem, `Z` (katmanın çıkışındaki hata türevleri) ve `cache_conv` (ileri geçiş sırasında kullanılan veriler ve hiperparametreler) parametrelerini kullanır. İşlemin sonucu olarak `dA` (önceki katmana iletilen hata türevleri), `dW` (filtrelerin türevleri) ve `db` (bias terimlerinin türevleri) elde edilir.\n",
        "\n",
        "3. `print(\"dA ortalama =\", np.mean(dA))`: `dA` değişkeninin ortalama değeri yazdırılır. Bu, hata türevlerinin ne kadar büyük olduğunu veya ne kadar değiştiğini gösterir. Yüksek ortalama değeri, büyük bir hata türevi olduğunu gösterir.\n",
        "\n",
        "4. `print(\"dW ortalama =\", np.mean(dW))`: `dW` değişkeninin ortalama değeri yazdırılır. Bu, filtrelerin türevlerinin ne kadar büyük olduğunu veya ne kadar değiştiğini gösterir.\n",
        "\n",
        "5. `print(\"db ortalama =\", np.mean(db))`: `db` değişkeninin ortalama değeri yazdırılır. Bu, bias terimlerinin türevlerinin ne kadar büyük olduğunu veya ne kadar değiştiğini gösterir.\n",
        "\n",
        "Bu kod parçası, CNN katmanının geriye doğru geçişini kullanarak hata türevlerini hesaplar ve bu hata türevlerinin ne kadar büyük olduğunu değerlendirmek için ortalama değerlerini yazdırır. Bu, ağın eğitimi sırasında gradient tabanlı optimizasyon algoritmaları (örneğin, stokastik gradyan inişi) kullanılarak ağırlıkların ve bias terimlerinin güncellenmesinde yardımcı olur."
      ],
      "metadata": {
        "id": "77Bbc48Ahug_"
      }
    },
    {
      "cell_type": "code",
      "source": [
        "def create_mask_from_window(x):\n",
        "\n",
        "  mask = x == np.max(x)\n",
        "\n",
        "  return mask"
      ],
      "metadata": {
        "id": "qB7fl8mrhvZD"
      },
      "execution_count": 50,
      "outputs": []
    },
    {
      "cell_type": "markdown",
      "source": [
        "Bu işlev, bir veri penceresini temsil eden bir giriş dizisi olan `x` üzerinde çalışır ve bu pencere içindeki maksimum değere karşılık gelen bir maske oluşturur. İşte bu işlemin nasıl çalıştığının açıklaması:\n",
        "\n",
        "1. `mask = x == np.max(x)`: Bu satır, giriş dizisi `x` içindeki her öğenin, `x` içindeki maksimum değere eşit olup olmadığını kontrol eder. `np.max(x)` ifadesi, `x` dizisindeki en büyük değeri verir. Sonuç, aynı boyutta bir maske dizisidir ve her öğesi, karşılık gelen `x` öğesinin maksimum değere eşit olup olmadığını gösterir.\n",
        "\n",
        "   Örnek: Eğer `x` şu şekilde bir diziyse: `x = np.array([1, 3, 2, 3, 5])`, ve `np.max(x)` 5'i veriyorsa, `mask` dizisi şu şekilde olur: `mask = [False, False, False, False, True]`. Bu durumda, maksimum değere karşılık gelen öğe (5) `True` değeriyle işaretlenir.\n",
        "\n",
        "2. `mask` dizisi son olarak `create_mask_from_window` işlevinin çıkış değeri olarak döndürülür. Bu maske, genellikle maksimum havuzlama (max-pooling) işlemi sırasında kullanılır. Maksimum havuzlama işlemi, giriş veri setindeki her pencere içindeki maksimum değeri seçmek için bu maskeyi kullanır. Bu şekilde, yüksek aktivasyonlu (büyük) özellikler diğerlerine tercih edilir ve öne çıkarılır."
      ],
      "metadata": {
        "id": "qtQoElEkiCbQ"
      }
    },
    {
      "cell_type": "code",
      "source": [
        "np.random.seed(1)\n",
        "x = np.random.randn(2,3)\n",
        "mask = create_mask_from_window(x)\n",
        "\n",
        "print('x =', x)\n",
        "print('maske =', mask)"
      ],
      "metadata": {
        "colab": {
          "base_uri": "https://localhost:8080/"
        },
        "id": "RJ7eoN9SiDim",
        "outputId": "9311b60a-3860-4e5d-f358-801ea07f1bef"
      },
      "execution_count": 51,
      "outputs": [
        {
          "output_type": "stream",
          "name": "stdout",
          "text": [
            "x = [[ 1.62434536 -0.61175641 -0.52817175]\n",
            " [-1.07296862  0.86540763 -2.3015387 ]]\n",
            "maske = [[ True False False]\n",
            " [False False False]]\n"
          ]
        }
      ]
    },
    {
      "cell_type": "markdown",
      "source": [
        "Bu kod örneği, `create_mask_from_window` işlevini kullanarak rastgele bir veri penceresi üzerinde maksimum değere karşılık gelen bir maske oluşturur ve sonucu görüntüler. İşte kodun ayrıntılı açıklaması:\n",
        "\n",
        "1. `np.random.seed(1)`: Rastgele sayı üretecinin başlangıç noktasını belirler. Bu, rastgele sayıların önceden belirlenebilir olmasını sağlar.\n",
        "\n",
        "2. `x = np.random.randn(2,3)`: İki satır ve üç sütundan oluşan rastgele bir 2D dizi oluşturur. Bu dizide rastgele sayılar bulunur. `x` dizisi, bir veri penceresini temsil eder.\n",
        "\n",
        "3. `mask = create_mask_from_window(x)`: `x` dizisi üzerindeki `create_mask_from_window` işlevini çağırarak bir maske oluşturur. Bu maske, `x` dizisindeki her öğenin maksimum değere karşılık gelen bir maske olacak.\n",
        "\n",
        "4. `print('x =', x)`: `x` dizisini ekrana yazdırır, böylece rastgele veri penceresini görebiliriz.\n",
        "\n",
        "5. `print('maske =', mask)`: `create_mask_from_window` işlevi tarafından oluşturulan maskeyi ekrana yazdırır. Maske, `x` dizisindeki her öğenin maksimum değere karşılık gelen öğe olup olmadığını gösterir. `True` değeri, maksimum değere karşılık gelirken `False` değeri diğer öğeler için kullanılır.\n",
        "\n",
        "Örnek çıktı şu şekilde olabilir:\n",
        "\n",
        "```\n",
        "x = [[ 1.62434536 -0.61175641 -0.52817175]\n",
        "     [-1.07296862  0.86540763 -2.3015387 ]]\n",
        "maske = [[ True False False]\n",
        "         [False False False]]\n",
        "```\n",
        "\n",
        "Bu örnekte, maksimum değere karşılık gelen öğe `True` değeriyle işaretlenmiş ve diğer öğeler `False` değeriyle işaretlenmiştir. Bu maske, maksimum havuzlama (max-pooling) işlemi sırasında kullanılabilir."
      ],
      "metadata": {
        "id": "U3_Fhm4CiNnC"
      }
    },
    {
      "cell_type": "code",
      "source": [
        "def distribute_value(dz, shape):\n",
        "\n",
        "\n",
        "    (n_H, n_W) = shape\n",
        "\n",
        "\n",
        "    average = dz / (n_H * n_W)\n",
        "\n",
        "\n",
        "    a =  np.ones(shape) * average\n",
        "\n",
        "    return a"
      ],
      "metadata": {
        "id": "gGZBe4zHiQLH"
      },
      "execution_count": 52,
      "outputs": []
    },
    {
      "cell_type": "markdown",
      "source": [
        "Bu kod, bir değeri belirtilen bir şekilde dağıtmak için kullanılan bir işlev olan `distribute_value`'yi tanımlar. İşte bu işlemin nasıl çalıştığının ayrıntılı açıklaması:\n",
        "\n",
        "1. `dz` ve `shape` adında iki giriş parametresi ile başlar.\n",
        "   - `dz`: Dağıtılacak değeri temsil eder.\n",
        "   - `shape`: Bu, dağıtılacak değerin şeklini belirleyen bir tuple'dır ve `(n_H, n_W)` biçimindedir. `n_H` ve `n_W`, değeri dağıtılacak matrisin yükseklik (satır sayısı) ve genişlik (sütun sayısı) boyutlarını temsil eder.\n",
        "\n",
        "2. `(n_H, n_W) = shape`: `shape` tuple'ındaki değerler `n_H` ve `n_W` değişkenlerine atanır. Bu, dağıtılacak matrisin boyutlarını belirler.\n",
        "\n",
        "3. `average = dz / (n_H * n_W)`: Verilen değeri `dz`, matrisin boyutlarına (`n_H` ve `n_W`) göre böler ve bu şekilde ortalama değeri hesaplar. Bu, her hücreye eşit bir değer dağıtmak için kullanılır.\n",
        "\n",
        "4. `a = np.ones(shape) * average`: Dağıtılmış matris `a` oluşturulur. Bu matris, belirtilen şekilde (`shape`) ortalama değeri (`average`) içeren bir matristir. `np.ones(shape)` ifadesi, verilen şekilde tamamen birlerden oluşan bir matris oluşturur ve bu matrisin her öğesine ortalama değeri atar.\n",
        "\n",
        "5. Son olarak, `a` matrisi `distribute_value` işlevinin çıkış değeri olarak döndürülür. Bu matris, giriş değerini belirtilen şekilde eşit bir şekilde dağıtan matristir.\n",
        "\n",
        "Bu işlev, özellikle max-pooling işlemi sırasında hata türevlerini hesaplamak için kullanılır. Dağıtma işlemi, maksimum havuzlama işlemi sırasında maksimum değere karşılık gelen hata türevlerini belirlemek için kullanılır."
      ],
      "metadata": {
        "id": "i3tVHFgFigMd"
      }
    },
    {
      "cell_type": "code",
      "source": [
        "a = distribute_value(2, (2,2))\n",
        "\n",
        "print('Dağıtılmış değer =', a)"
      ],
      "metadata": {
        "colab": {
          "base_uri": "https://localhost:8080/"
        },
        "id": "yf0VK8DGiipw",
        "outputId": "76d343c5-55e2-4581-bc20-63c234f7ccb9"
      },
      "execution_count": 53,
      "outputs": [
        {
          "output_type": "stream",
          "name": "stdout",
          "text": [
            "Dağıtılmış değer = [[0.5 0.5]\n",
            " [0.5 0.5]]\n"
          ]
        }
      ]
    },
    {
      "cell_type": "markdown",
      "source": [
        "Bu kod örneği, `distribute_value` işlemini kullanarak bir değeri belirtilen bir şekilde (2x2 matris şeklinde) dağıtan bir örnek göstermektedir. İşte kodun ayrıntılı açıklaması:\n",
        "\n",
        "1. `a = distribute_value(2, (2,2))`: `distribute_value` işlevi, bir değeri (2) belirtilen bir şekilde (2x2 matris) dağıtmak için çağrılır. İşlem sonucunda oluşturulan matris `a` değişkenine atanır.\n",
        "\n",
        "2. `print('Dağıtılmış değer =', a)`: Dağıtılan matris olan `a` ekrana yazdırılır.\n",
        "\n",
        "Örnek çıktı şu şekilde olabilir:\n",
        "\n",
        "```\n",
        "Dağıtılmış değer = [[0.5 0.5]\n",
        "                   [0.5 0.5]]\n",
        "```\n",
        "\n",
        "Bu örnekte, `distribute_value` işlemi, giriş değeri olan 2'yi belirtilen şekilde (2x2 matris) dağıtarak her hücreye eşit bir değer (0.5) atar. Sonuç olarak oluşturulan matris, her hücrede eşit bir değere sahip bir 2x2 matrisdir."
      ],
      "metadata": {
        "id": "inrXoHtWipqP"
      }
    },
    {
      "cell_type": "code",
      "source": [
        "def pool_backward(dA, cache, mode= 'max'):\n",
        "\n",
        "\n",
        "    (A_prev, hparameters) = cache\n",
        "\n",
        "\n",
        "    stride = hparameters['stride']\n",
        "    f = hparameters['f']\n",
        "\n",
        "\n",
        "    m, n_H_prev, n_W_prev, n_C_prev = A_prev.shape\n",
        "    m, n_H, n_W, n_C = dA.shape\n",
        "\n",
        "\n",
        "    dA_prev = np.zeros(A_prev.shape)\n",
        "\n",
        "    for i in range(m):\n",
        "\n",
        "\n",
        "        a_prev = A_prev[i]\n",
        "\n",
        "        for h in range(n_H):\n",
        "            for w in range(n_W):\n",
        "                for c in range(n_C):\n",
        "\n",
        "\n",
        "                    vert_start = h\n",
        "                    vert_end = vert_start + f\n",
        "                    horiz_start = w\n",
        "                    horiz_end = horiz_start + f\n",
        "\n",
        "\n",
        "                    if mode == \"max\":\n",
        "\n",
        "\n",
        "                        a_prev_slice = a_prev[vert_start:vert_end, horiz_start:horiz_end, c]\n",
        "\n",
        "                        mask = create_mask_from_window(a_prev_slice)\n",
        "\n",
        "                        dA_prev[i, vert_start: vert_end, horiz_start: horiz_end, c] += np.multiply(mask, dA[i, h, w, c])\n",
        "\n",
        "                    elif mode == \"average\":\n",
        "\n",
        "\n",
        "                        da = dA[i,h,w,c]\n",
        "\n",
        "                        shape = (f,f)\n",
        "                        dA_prev[i, vert_start: vert_end, horiz_start: horiz_end, c] += distribute_value(da, shape)\n",
        "\n",
        "\n",
        "    assert(dA_prev.shape == A_prev.shape)\n",
        "\n",
        "    return dA_prev"
      ],
      "metadata": {
        "id": "zS4L9Ym_irq1"
      },
      "execution_count": 54,
      "outputs": []
    },
    {
      "cell_type": "markdown",
      "source": [
        "Bu kod, havuzlama katmanının geriye doğru geçişini gerçekleştiren `pool_backward` işlevini tanımlar. İşte bu işlemin ayrıntılı açıklaması:\n",
        "\n",
        "1. `pool_backward` işlevi, `dA` (katmandan gelen hata türevleri), `cache` (ileri geçiş sırasında kullanılan veriler ve hiperparametreler) ve `mode` (havuzlama modu, varsayılan olarak \"max\" olarak ayarlanmış) olmak üzere üç giriş parametresi alır.\n",
        "\n",
        "2. `(A_prev, hparameters) = cache`: `cache` içerisinde bulunan verileri çıkarır. `A_prev`, önceki katmanın çıkışı olan veriyi temsil eder. `hparameters`, havuzlama işlemi için kullanılan hiperparametreleri içerir.\n",
        "\n",
        "3. `stride` ve `f` (pencere boyutu) hiperparametreleri `hparameters` içinden çıkarılır.\n",
        "\n",
        "4. `m, n_H_prev, n_W_prev, n_C_prev = A_prev.shape` ve `m, n_H, n_W, n_C = dA.shape`: İlgili boyutlar alınır. `A_prev` matrisinin boyutları (`n_H_prev`, `n_W_prev`, `n_C_prev`) ve `dA` matrisinin boyutları (`n_H`, `n_W`, `n_C`) alınır.\n",
        "\n",
        "5. `dA_prev = np.zeros(A_prev.shape)`: Geriye doğru geçiş sırasında hesaplanacak hata türevlerini saklamak için `dA_prev` adında sıfırlardan oluşan bir matris oluşturulur. Bu matris, önceki katmanın hata türevlerini temsil eder.\n",
        "\n",
        "6. Bir döngü başlatılır ve her örnek için (`i`), havuzlama işlemi geriye doğru uygulanır:\n",
        "   - `a_prev` içindeki önceki katmanın verisi alınır.\n",
        "   - `n_H` ve `n_W` boyutlarındaki dA matrisi üzerinde döngü yapılır ve her hücre için:\n",
        "     - Havuzlama moduna (`mode`) bağlı olarak (maksimum veya ortalama) hata türevleri hesaplanır:\n",
        "       - Maksimum havuzlama (`mode = \"max\"`): Maksimum öğenin konumunu bulmak için ilgili pencere içinde maksimum değere sahip olan öğeyi seçen bir maske oluşturulur ve bu maske, dA ile çarpılarak hata türevleri hesaplanır.\n",
        "       - Ortalama havuzlama (`mode = \"average\"`): dA'nın değeri pencere boyutuna (`f`) göre bölünerek hata türevleri hesaplanır.\n",
        "\n",
        "7. `assert(dA_prev.shape == A_prev.shape)`: `dA_prev` ve `A_prev` matrislerinin boyutlarının uygun olduğundan emin olmak için bir doğrulama yapılır.\n",
        "\n",
        "8. Son olarak, `dA_prev` matrisi `pool_backward` işlevinin çıkış değeri olarak döndürülür. Bu matris, önceki katmana iletilen hata türevlerini içerir.\n",
        "\n",
        "Bu işlev, havuzlama katmanının geriye doğru geçişini gerçekleştirerek hata türevlerini hesaplar ve bu hata türevlerini önceki katmana iletilmesi için kullanılır. Havuzlama işlemi sırasında maksimum veya ortalama değerlerin hangi hücrelere iletilmesi gerektiği bu işlev aracılığıyla hesaplanır."
      ],
      "metadata": {
        "id": "Hhbz0VTzi6_0"
      }
    },
    {
      "cell_type": "markdown",
      "source": [
        "**Geriye yayılım ile güncellenen ağırlıklar ve diğer parametreler**"
      ],
      "metadata": {
        "id": "VMYBYdr5i9xq"
      }
    },
    {
      "cell_type": "code",
      "source": [
        "np.random.seed(1)\n",
        "\n",
        "A_prev = np.random.randn(5, 5, 3, 2)\n",
        "hparameters = {\"stride\": 1, \"f\":2}\n",
        "A, cache = pool_forward(A_prev, hparameters)\n",
        "dA = np.random.randn(5, 4, 2, 2)\n",
        "\n",
        "dA_prev = pool_backward(dA, cache, mode= \"max\")\n",
        "\n",
        "print(\"mod = max\")\n",
        "print('dA ortalaması =', np.max(dA))\n",
        "print('dA_prev[1,1]', dA_prev[1,1])\n",
        "print()\n",
        "\n",
        "dA_prev = pool_backward(dA, cache, mode= \"average\")\n",
        "\n",
        "print(\"mod = average\")\n",
        "print('dA ortalaması =', np.mean(dA))\n",
        "print('dA_prev[1,1]', dA_prev[1,1])"
      ],
      "metadata": {
        "colab": {
          "base_uri": "https://localhost:8080/"
        },
        "id": "vberbWSji8O4",
        "outputId": "a1f4a9f9-c1b2-46e8-b90f-122bce20f2d8"
      },
      "execution_count": 55,
      "outputs": [
        {
          "output_type": "stream",
          "name": "stdout",
          "text": [
            "mod = max\n",
            "dA ortalaması = 2.528325706806398\n",
            "dA_prev[1,1] [[ 0.          0.        ]\n",
            " [ 5.05844394 -1.68282702]\n",
            " [ 0.          0.        ]]\n",
            "\n",
            "mod = average\n",
            "dA ortalaması = 0.14571390272918056\n",
            "dA_prev[1,1] [[ 0.08485462  0.2787552 ]\n",
            " [ 1.26461098 -0.25749373]\n",
            " [ 1.17975636 -0.53624893]]\n"
          ]
        }
      ]
    },
    {
      "cell_type": "markdown",
      "source": [
        "Bu kod örneği, havuzlama katmanının geriye doğru geçişini (`pool_backward`) kullanarak hata türevlerinin hesaplanmasını gösteriyor. İşte bu kodun ayrıntılı açıklaması:\n",
        "\n",
        "1. `np.random.seed(1)`: Rastgele sayı üretecinin başlangıç noktasını belirler. Bu, rastgele sayıların önceden belirlenebilir olmasını sağlar.\n",
        "\n",
        "2. `A_prev = np.random.randn(5, 5, 3, 2)`: 5x5x3 boyutunda ve 2 kanala sahip rastgele bir giriş verisi (`A_prev`) oluşturur. Bu, havuzlama işlemi sırasında kullanılacak olan giriş verisini temsil eder.\n",
        "\n",
        "3. `hparameters = {\"stride\": 1, \"f\": 2}`: Havuzlama işlemi için hiperparametreleri içeren bir sözlük (`hparameters`) oluşturur. Bu hiperparametreler, adım (stride) ve pencere boyutunu (`f`) belirtir.\n",
        "\n",
        "4. `A, cache = pool_forward(A_prev, hparameters)`: Havuzlama işlemi (`pool_forward`) kullanılarak giriş verisi (`A_prev`) üzerinde havuzlama işlemi uygulanır. Bu işlem sonucunda havuzlanmış veri (`A`) ve bu işlem sırasında kullanılan öğelerin önbelleği (`cache`) elde edilir.\n",
        "\n",
        "5. `dA = np.random.randn(5, 4, 2, 2)`: Havuzlama katmanının çıkışına göre hata türevlerini (`dA`) içeren bir rastgele matris oluşturur. Bu matris, havuzlama katmanının çıkışındaki hata türevlerini temsil eder.\n",
        "\n",
        "6. `dA_prev = pool_backward(dA, cache, mode=\"max\")`: Maksimum havuzlama modu ile geriye doğru geçiş işlemi (`pool_backward`) uygulanır. Bu işlem, `dA` matrisi ve önbellekteki bilgileri (`cache`) kullanarak havuzlama işlemi sırasında oluşturulan hata türevlerini (`dA_prev`) hesaplar.\n",
        "\n",
        "7. `print(\"mod = max\")`: Maksimum havuzlama modu için sonuçların görüntüleneceğini belirten bir başlık yazdırılır.\n",
        "\n",
        "8. `print('dA ortalaması =', np.max(dA))`: `dA` matrisinin maksimum değerini yazdırarak bu matrisin istatistiksel bilgilerini görüntüler.\n",
        "\n",
        "9. `print('dA_prev[1,1]', dA_prev[1,1])`: Havuzlama işlemi sırasında hesaplanan hata türevlerinin (örnek olarak `dA_prev` matrisinin [1,1] hücresi) değerlerini görüntüler.\n",
        "\n",
        "10. `dA_prev = pool_backward(dA, cache, mode=\"average\")`: Ortalama havuzlama modu ile geriye doğru geçiş işlemi (`pool_backward`) uygulanır. Bu işlem, `dA` matrisi ve önbellekteki bilgileri (`cache`) kullanarak havuzlama işlemi sırasında oluşturulan hata türevlerini (`dA_prev`) hesaplar.\n",
        "\n",
        "11. `print(\"mod = average\")`: Ortalama havuzlama modu için sonuçların görüntüleneceğini belirten bir başlık yazdırılır.\n",
        "\n",
        "12. `print('dA ortalaması =', np.mean(dA))`: `dA` matrisinin ortalama değerini yazdırarak bu matrisin istatistiksel bilgilerini görüntüler.\n",
        "\n",
        "13. `print('dA_prev[1,1]', dA_prev[1,1])`: Havuzlama işlemi sırasında hesaplanan hata türevlerinin (örnek olarak `dA_prev` matrisinin [1,1] hücresi) değerlerini görüntüler.\n",
        "\n",
        "Bu örnek, havuzlama katmanının geriye doğru geçişini iki farklı modda (maksimum ve ortalama) nasıl uygulanacağını gösterir ve bu işlemlerin sonuçlarını görüntüler."
      ],
      "metadata": {
        "id": "uxD72djejd0w"
      }
    },
    {
      "cell_type": "code",
      "source": [],
      "metadata": {
        "id": "kkewuQHbjfhQ"
      },
      "execution_count": null,
      "outputs": []
    }
  ]
}